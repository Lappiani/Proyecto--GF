{
 "cells": [
  {
   "cell_type": "markdown",
   "metadata": {},
   "source": [
    "# Ingesta de datos\n",
    "\n",
    "Los datos serán los que ofrece la librería de *Yahoo Finance*, los cuales se obtienen mediante,\n",
    "```\n",
    "import yfinance as yf\n",
    "```\n"
   ]
  },
  {
   "cell_type": "markdown",
   "metadata": {},
   "source": [
    "# Valoración opciones aplicada\n",
    "\n",
    "Tome en consideración el modelo continuio de Black and Scholes:\n",
    "\n",
    "$$C(S,t)=S\\cdot\\Phi(d_1)-K\\exp(-R\\cdot t)\\cdot\\Phi(d_2)$$\n",
    "\n",
    "donde $d_1=\\frac{\\log\\frac{S}{K}+\\left(R+\\frac{\\sigma^2}{2}\\right)\\cdot t}{\\sqrt{\\sigma^2\\cdot t}}$ y $d_2=d_1-\\sqrt{\\sigma^2\\cdot t}$.\n",
    "\n",
    "Defina los parámetros asociados a valores del activo definido en la Tarea 1 y calcule el valor de una opción de compra."
   ]
  },
  {
   "cell_type": "markdown",
   "metadata": {},
   "source": [
    "### Cálculo tasa libre de riesgo\n",
    "\n",
    "En esta parte se calcula la tasa libre de riesgo en base a un bono de tesorería de 10 años de USA."
   ]
  },
  {
   "cell_type": "code",
   "execution_count": 14,
   "metadata": {},
   "outputs": [
    {
     "name": "stdout",
     "output_type": "stream",
     "text": [
      "Tasa libre de riesgo (Rendimiento bonos 10 años USA): 4.92%\n"
     ]
    }
   ],
   "source": [
    "import yfinance as yf\n",
    "\n",
    "# Se define el ticker de un bono de tesorería de 10 años USA.\n",
    "treasury_bond = '^TNX'  \n",
    "\n",
    "treasury_bond = yf.Ticker(treasury_bond)\n",
    "treasury_bond_data = treasury_bond.history(period=\"1y\")\n",
    "\n",
    "# Se obtiene el rendimiento más reciente.\n",
    "rend = treasury_bond_data['Close'].iloc[-1]\n",
    "\n",
    "risk_free_rate = rend / 100\n",
    "\n",
    "print(f\"Tasa libre de riesgo (Rendimiento bonos 10 años USA): {risk_free_rate:.2%}\")"
   ]
  },
  {
   "cell_type": "markdown",
   "metadata": {},
   "source": [
    "### Precio del ejercicio y Tiempo para expiración\n",
    "\n",
    "Se obtienen datos relacionados para opciones de la acción del Banco de Chile que transa en NYSE."
   ]
  },
  {
   "cell_type": "code",
   "execution_count": 15,
   "metadata": {},
   "outputs": [
    {
     "name": "stdout",
     "output_type": "stream",
     "text": [
      "Precios del ejercicio:\n",
      "0    20.0\n",
      "Name: strike, dtype: float64\n",
      "Tiempo hasta la expiración (en años):\n",
      "[0.0684931506849315, 0.2410958904109589, 0.4904109589041096]\n"
     ]
    }
   ],
   "source": [
    "import yfinance as yf\n",
    "from datetime import datetime\n",
    "\n",
    "# Replace 'BCH' with the appropriate ticker symbol for Banco de Chile.\n",
    "ticker = 'BCH'\n",
    "\n",
    "# Initialize a Yahoo Finance object for the stock.\n",
    "stock = yf.Ticker(ticker)\n",
    "\n",
    "# Fetch the option chain.\n",
    "option_chain = stock.option_chain()\n",
    "\n",
    "# Get the expiration dates of the options.\n",
    "exp_dates = stock.options\n",
    "\n",
    "time_to_expiration_years = [(datetime.strptime(exp_date, '%Y-%m-%d') - datetime.now()).days / 365 for exp_date in exp_dates]\n",
    "\n",
    "strike_prices = option_chain.calls['strike']\n",
    "\n",
    "print(\"Precios del ejercicio:\")\n",
    "print(strike_prices)\n",
    "\n",
    "print(\"Tiempo hasta la expiración (en años):\")\n",
    "print(time_to_expiration_years)"
   ]
  },
  {
   "cell_type": "markdown",
   "metadata": {},
   "source": [
    "### Cálculo volatilidad\n",
    "\n",
    "En este caso se calcula la volatilidad de acuerdo a ventanas de tiempo que se van moviendo, y luego se calcula el promedio de las deviaciones estándar de cada ventana de tiempo. El parámetro, ```periodo_t``` sirve para definir cada cuántos días se calcula la desviación estándar, entonces si este es igual a 3, se calculará la desviación estándar cada 3 días."
   ]
  },
  {
   "cell_type": "code",
   "execution_count": 16,
   "metadata": {},
   "outputs": [
    {
     "name": "stdout",
     "output_type": "stream",
     "text": [
      "[*********************100%%**********************]  1 of 1 completed\n",
      "[*********************100%%**********************]  1 of 1 completed\n",
      "El precio para una opción call es: 0.13597314557145346\n"
     ]
    }
   ],
   "source": [
    "import numpy as np\n",
    "import scipy.stats as si\n",
    "\n",
    "def volatilidad(ticker, periodo_t):\n",
    "    df = yf.download(ticker, period = '1y')\n",
    "\n",
    "    retornos_diarios = df['Adj Close'].pct_change()\n",
    "    # Se calcula la desviación estándar para cada periodo_t. Y luego, se obtiene el promedio anualizado por la cantidad de días.\n",
    "    sigma = retornos_diarios.rolling(periodo_t).std()\n",
    "    # Volatilidad anualizada\n",
    "    sigma = sigma.mean()*np.sqrt(periodo_t)\n",
    "    return sigma\n",
    "\n",
    "def black_scholes_call(S, K, T, r, sigma):\n",
    "    # S: Precio actual del activo subyacente.\n",
    "    # K: Precio del ejercicio de la opción.\n",
    "    # T: Tiempo de que falta para la fecha de vencimiento.\n",
    "    # r: Tasa libre de riesgo.\n",
    "    # sigma: Volatilidad del activo subyacente.\n",
    "    \n",
    "    d1 = (np.log(S / K) + (r + 0.5 * sigma ** 2) * T) / (sigma * np.sqrt(T))\n",
    "    d2 = d1 - sigma * np.sqrt(T)\n",
    "    call = (S * si.norm.cdf(d1, 0.0, 1.0) - K * np.exp(-r * T) * si.norm.cdf(d2, 0.0, 1.0))\n",
    "    return call\n",
    "\n",
    "ticker = 'BCH'\n",
    "data = yf.download(ticker, period='1d')\n",
    "\n",
    "# Precio actual de la acción del Banco de Chile.\n",
    "S = data['Close'][-1]\n",
    "\n",
    "# Precio del ejercicio.\n",
    "K = strike_prices[len(strike_prices)-1]\n",
    "\n",
    "# Tiempo que falta para la fecha de vencimiento (en años)\n",
    "T = time_to_expiration_years[len(time_to_expiration_years)-1]\n",
    "\n",
    "# Tasa libre de riesgo.\n",
    "r = risk_free_rate\n",
    "\n",
    "# Volatilidad del activo subyacente.\n",
    "sigma = volatilidad(ticker, 3)\n",
    "\n",
    "# Calculate call option price\n",
    "call_option_price = black_scholes_call(S, K, T, r, sigma)\n",
    "\n",
    "print(f'El precio para una opción call es: {call_option_price}')\n",
    "\n"
   ]
  },
  {
   "cell_type": "markdown",
   "metadata": {},
   "source": [
    "# Modelo alternativo\n",
    "\n",
    "El siguiente modelo corresponde al modelo de valoración de opciones de Monte-Carlo."
   ]
  },
  {
   "cell_type": "code",
   "execution_count": 17,
   "metadata": {},
   "outputs": [],
   "source": [
    "import numpy as np\n",
    "\n",
    "def monte_carlo_option_pricing_model(S, K, T, r, sigma, N, M, option_type='call', nivel_confianza=0.95):\n",
    "    \"\"\"\n",
    "    S: Precio actual del activo.\n",
    "    K: Precio del ejercicio.\n",
    "    T: Tiempo para el vencimiento.\n",
    "    r: Tasa libre de riesgo.\n",
    "    sigma: Volatilidad del activo subyacente.\n",
    "    N: Cantidad de pasos en el tiempo.\n",
    "    M: Cantidad de simulaciones.\n",
    "    option_type: Tipo de la opción ('call' o 'put').\n",
    "    confidence_level: Nivel de confianza para el intervalo de confianza.\n",
    "    \"\"\"\n",
    "    dt = T / N  # Paso tiempo\n",
    "    I = np.zeros(M)  # Se inicializan los precios para cada simulación\n",
    "\n",
    "    # Se simulan los M caminos del precio, para N pasos en el tiempo, cada uno.\n",
    "    for i in range(M):\n",
    "        S_t = S\n",
    "        for j in range(N):\n",
    "            S_t *= np.exp((r - 0.5 * sigma**2) * dt + sigma * np.sqrt(dt) * np.random.standard_normal())\n",
    "        print(S_t)\n",
    "        I[i] = S_t\n",
    "\n",
    "    # Se calculan los \"pagos\" en el vencimiento.\n",
    "    if option_type == 'call':\n",
    "        pago = np.maximum(I - K, 0)\n",
    "    elif option_type == 'put':\n",
    "        pago = np.maximum(K - I, 0)\n",
    "\n",
    "    # Se descuentan los flujos para obtener el precio en t=0.\n",
    "    C = np.exp(-r * T) * np.sum(pago) / M\n",
    "\n",
    "    # Se calculan el precio promedio y el error estándar.\n",
    "    precio_promedio = np.mean(pago)\n",
    "    sd = np.std(pago, ddof=1) / np.sqrt(M)\n",
    "\n",
    "    # Se calcula el intervalo de confianza.\n",
    "    z = np.abs(np.percentile(np.random.normal(0, 1, M), (1 - nivel_confianza) * 100 / 2))\n",
    "    lower_bound = precio_promedio - z * sd\n",
    "    upper_bound = precio_promedio + z * sd\n",
    "\n",
    "    return C, (lower_bound, upper_bound)\n"
   ]
  },
  {
   "cell_type": "code",
   "execution_count": 18,
   "metadata": {},
   "outputs": [],
   "source": [
    "import numpy as np\n",
    "\n",
    "def monte_carlo_option_pricing_model(S, K, T, r, sigma, N, M, option_type='call', nivel_confianza=0.95):\n",
    "    \"\"\"\n",
    "    S: Precio actual del activo.\n",
    "    K: Precio del ejercicio.\n",
    "    T: Tiempo para el vencimiento.\n",
    "    r: Tasa libre de riesgo.\n",
    "    sigma: Volatilidad del activo subyacente.\n",
    "    N: Cantidad de pasos en el tiempo.\n",
    "    M: Cantidad de simulaciones.\n",
    "    option_type: Tipo de la opción ('call' o 'put').\n",
    "    confidence_level: Nivel de confianza para el intervalo de confianza.\n",
    "    \"\"\"\n",
    "    dt = T / N  # Paso tiempo\n",
    "    I = np.zeros(M)  # Se inicializan los precios para cada simulación\n",
    "\n",
    "    # Se simulan los M caminos del precio, para N pasos en el tiempo, cada uno.\n",
    "    for i in range(M):\n",
    "        S_t = S\n",
    "        for j in range(N):\n",
    "            S_t *= np.exp((r - 0.5 * sigma**2) * dt + sigma * np.sqrt(dt) * np.random.standard_normal())\n",
    "        \n",
    "        I[i] = S_t\n",
    "    \n",
    "    # Se calculan los \"pagos\" en el vencimiento.\n",
    "    if option_type == 'call':\n",
    "        pago = np.maximum(I - K, 0)\n",
    "    elif option_type == 'put':\n",
    "        pago = np.maximum(K - I, 0)\n",
    "\n",
    "    # Se descuentan los flujos para obtener el precio en t=0.\n",
    "    C = np.exp(-r * T) * np.sum(pago) / M\n",
    "\n",
    "    # Se calculan el precio promedio y el error estándar.\n",
    "    precio_promedio = np.mean(pago)\n",
    "    sd = np.std(pago, ddof=1) / np.sqrt(M)\n",
    "\n",
    "    # Se calcula el intervalo de confianza.\n",
    "    z = np.abs(np.percentile(np.random.normal(0, 1, M), (1 - nivel_confianza) * 100 / 2))\n",
    "    lower_bound = precio_promedio - z * sd\n",
    "    upper_bound = precio_promedio + z * sd\n",
    "\n",
    "    return C, (lower_bound, upper_bound)\n"
   ]
  },
  {
   "cell_type": "code",
   "execution_count": 19,
   "metadata": {},
   "outputs": [
    {
     "name": "stdout",
     "output_type": "stream",
     "text": [
      "[*********************100%%**********************]  1 of 1 completed\n",
      "[*********************100%%**********************]  1 of 1 completed\n",
      "Intervalo de confianza 90%: [0.067, 0.138]\n",
      "Promedio precio opción: 0.100\n"
     ]
    }
   ],
   "source": [
    "import yfinance as yf\n",
    "ticker = 'BCH'\n",
    "\n",
    "data = yf.download(ticker,period = '1y')\n",
    "\n",
    "# Obtenemos el precio actual de la acción.\n",
    "S_0 = data['Adj Close'][-1]\n",
    "\n",
    "# Tiempo para el vencimiento.\n",
    "T = time_to_expiration_years[len(time_to_expiration_years)-1]\n",
    "# Precio del ejercicio.\n",
    "K = strike_prices[len(strike_prices)-1]\n",
    "# Tasa libre de riesgo.\n",
    "r = risk_free_rate\n",
    "# Volatilidad de la acción.\n",
    "sigma = volatilidad(ticker,3)\n",
    "# Número de pasos del tiempo.\n",
    "N = 12\n",
    "# Cantidad de simulaciones.\n",
    "M = 50\n",
    "# Nivel de confianza.\n",
    "confianza = 0.9\n",
    "\n",
    "precio_opcion, ic = monte_carlo_option_pricing_model(S_0,K,T,r,sigma,N,M,'call',confianza)\n",
    "\n",
    "print(f'Intervalo de confianza {confianza*100:.0f}%: [{ic[0]:.3f}, {ic[1]:.3f}]')\n",
    "print(f'Promedio precio opción: {precio_opcion:.3f}')\n"
   ]
  }
 ],
 "metadata": {
  "kernelspec": {
   "display_name": "base",
   "language": "python",
   "name": "python3"
  },
  "language_info": {
   "codemirror_mode": {
    "name": "ipython",
    "version": 3
   },
   "file_extension": ".py",
   "mimetype": "text/x-python",
   "name": "python",
   "nbconvert_exporter": "python",
   "pygments_lexer": "ipython3",
   "version": "3.7.3"
  }
 },
 "nbformat": 4,
 "nbformat_minor": 2
}
